{
 "cells": [
  {
   "metadata": {
    "ExecuteTime": {
     "end_time": "2024-11-16T16:26:09.746020Z",
     "start_time": "2024-11-16T16:26:08.549889Z"
    }
   },
   "cell_type": "code",
   "source": [
    "# Imports necesarios\n",
    "from langchain_core.prompts import PromptTemplate\n",
    "from langchain_openai import ChatOpenAI\n",
    "from langchain_community.utilities import SQLDatabase\n",
    "from langchain_community.tools.sql_database.tool import QuerySQLDataBaseTool\n",
    "from langchain_core.output_parsers import StrOutputParser\n",
    "from langchain_core.runnables import RunnablePassthrough\n",
    "from operator import itemgetter\n",
    "import os\n",
    "from dotenv import load_dotenv"
   ],
   "id": "5808418f65c0c455",
   "outputs": [
    {
     "name": "stderr",
     "output_type": "stream",
     "text": [
      "/Users/adrianinfantes/Desktop/AIR/CollegeStudies/AISolutionsArchitechPath/Langchain/venv/lib/python3.9/site-packages/urllib3/__init__.py:35: NotOpenSSLWarning: urllib3 v2 only supports OpenSSL 1.1.1+, currently the 'ssl' module is compiled with 'LibreSSL 2.8.3'. See: https://github.com/urllib3/urllib3/issues/3020\n",
      "  warnings.warn(\n"
     ]
    }
   ],
   "execution_count": 1
  },
  {
   "metadata": {
    "ExecuteTime": {
     "end_time": "2024-11-16T16:26:11.541262Z",
     "start_time": "2024-11-16T16:26:11.537695Z"
    }
   },
   "cell_type": "code",
   "source": [
    "# Cargar las claves desde el archivo .env\n",
    "load_dotenv()\n",
    "\n",
    "# Configuración de la base de datos\n",
    "mysql_host = os.getenv(\"MYSQL_HOST\")\n",
    "mysql_port = os.getenv(\"MYSQL_PORT\")\n",
    "mysql_user = os.getenv(\"MYSQL_USER\")\n",
    "mysql_password = os.getenv(\"MYSQL_PASSWORD\")"
   ],
   "id": "fffda61f29e0f42",
   "outputs": [],
   "execution_count": 2
  },
  {
   "metadata": {
    "ExecuteTime": {
     "end_time": "2024-11-16T16:26:13.208395Z",
     "start_time": "2024-11-16T16:26:12.975986Z"
    }
   },
   "cell_type": "code",
   "source": [
    "# Crear la conexión a la base de datos\n",
    "mysql_db_uri = f\"mysql+pymysql://{mysql_user}:{mysql_password}@{mysql_host}:{mysql_port}/usuarios_cibersecurity\"\n",
    "db = SQLDatabase.from_uri(mysql_db_uri)\n",
    "\n",
    "# Inicializar el modelo de lenguaje\n",
    "llm = ChatOpenAI(model=\"gpt-4o-mini\", api_key=os.getenv(\"OPENAI_API_KEY\"))"
   ],
   "id": "37b92cf37e914de1",
   "outputs": [],
   "execution_count": 3
  },
  {
   "metadata": {
    "ExecuteTime": {
     "end_time": "2024-11-16T16:26:43.490452Z",
     "start_time": "2024-11-16T16:26:43.485427Z"
    }
   },
   "cell_type": "code",
   "source": [
    "# Definir el prompt para generar la consulta SQL\n",
    "sql_prompt = PromptTemplate.from_template(\n",
    "    \"\"\"Based on the table schema below, write only a SQL query (without any markdown formatting or code blocks) that would answer the user's question.\n",
    "\n",
    "    {table_info}\n",
    "\n",
    "    Question: {question}\n",
    "    Remember: Return ONLY the SQL query, without any markdown formatting, explanation, or code blocks.\n",
    "    SQL Query: \"\"\"\n",
    ")\n",
    "\n",
    "# Definir el prompt para la respuesta final\n",
    "answer_prompt = PromptTemplate.from_template(\n",
    "    \"\"\"Given the following user question, corresponding SQL query, and SQL result, answer the user question in Spanish.\n",
    "\n",
    "Question: {question}\n",
    "SQL Query: {query}\n",
    "SQL Result: {result}\n",
    "Answer: \"\"\"\n",
    ")"
   ],
   "id": "c070aa58090805f4",
   "outputs": [],
   "execution_count": 4
  },
  {
   "metadata": {
    "ExecuteTime": {
     "end_time": "2024-11-16T16:27:20.333755Z",
     "start_time": "2024-11-16T16:27:20.327850Z"
    }
   },
   "cell_type": "code",
   "source": [
    "def clean_sql_query(query: str) -> str:\n",
    "    \"\"\"Limpia la consulta SQL removiendo marcadores de código y espacios innecesarios.\"\"\"\n",
    "    # Remover marcadores de código markdown\n",
    "    query = query.replace(\"```sql\", \"\").replace(\"```\", \"\")\n",
    "    # Limpiar espacios extra y saltos de línea\n",
    "    query = query.strip()\n",
    "    return query\n",
    "\n",
    "# Crear la cadena para generar la consulta SQL\n",
    "def generate_sql_query(inputs):\n",
    "    prompt_value = sql_prompt.format_prompt(\n",
    "        question=inputs[\"question\"],\n",
    "        table_info=db.get_table_info()\n",
    "    )\n",
    "    raw_query = llm.predict(prompt_value.to_string())\n",
    "    # Limpiar la consulta antes de devolverla\n",
    "    return clean_sql_query(raw_query)\n",
    "\n",
    "# Crear la cadena para ejecutar la consulta\n",
    "def execute_sql_query(inputs):\n",
    "    query = inputs[\"query\"]\n",
    "    try:\n",
    "        # Imprimir la consulta para debugging\n",
    "        print(\"\\nConsulta SQL a ejecutar:\", query)\n",
    "        return db.run(query)\n",
    "    except Exception as e:\n",
    "        print(f\"Error ejecutando consulta: {str(e)}\")\n",
    "        raise e"
   ],
   "id": "9b023abe1bce1884",
   "outputs": [],
   "execution_count": 5
  },
  {
   "metadata": {
    "ExecuteTime": {
     "end_time": "2024-11-16T16:27:28.339641Z",
     "start_time": "2024-11-16T16:27:28.332108Z"
    }
   },
   "cell_type": "code",
   "source": [
    "# Crear la cadena de procesamiento completa\n",
    "chain = (\n",
    "    RunnablePassthrough.assign(query=generate_sql_query).assign(\n",
    "        result=execute_sql_query\n",
    "    )\n",
    "    | answer_prompt\n",
    "    | llm\n",
    "    | StrOutputParser()\n",
    ")"
   ],
   "id": "3475e02e7054a9e8",
   "outputs": [],
   "execution_count": 6
  },
  {
   "metadata": {
    "ExecuteTime": {
     "end_time": "2024-11-16T16:27:31.834585Z",
     "start_time": "2024-11-16T16:27:31.828420Z"
    }
   },
   "cell_type": "code",
   "source": [
    "# Función principal para procesar preguntas\n",
    "def get_db_response(question: str) -> str:\n",
    "    \"\"\"\n",
    "    Obtiene una respuesta en lenguaje natural a partir de una pregunta sobre la base de datos.\n",
    "\n",
    "    Args:\n",
    "        question (str): Pregunta en lenguaje natural\n",
    "\n",
    "    Returns:\n",
    "        str: Respuesta en lenguaje natural\n",
    "    \"\"\"\n",
    "    try:\n",
    "        # Imprimir información de la base de datos para debugging\n",
    "        print(\"Esquema de la base de datos:\")\n",
    "        print(db.get_table_info())\n",
    "\n",
    "        # Procesar la pregunta\n",
    "        response = chain.invoke({\"question\": question})\n",
    "        return response\n",
    "    except Exception as e:\n",
    "        print(f\"Error detallado: {str(e)}\")\n",
    "        return f\"Error al procesar la pregunta: {str(e)}\""
   ],
   "id": "8f5e63043bada684",
   "outputs": [],
   "execution_count": 7
  },
  {
   "metadata": {
    "ExecuteTime": {
     "end_time": "2024-11-16T16:27:38.537333Z",
     "start_time": "2024-11-16T16:27:33.568227Z"
    }
   },
   "cell_type": "code",
   "source": [
    "# Ejemplo de uso\n",
    "\n",
    "# Configurar logging básico\n",
    "import logging\n",
    "logging.basicConfig(level=logging.INFO)\n",
    "\n",
    "# Ejemplo de pregunta\n",
    "question = \"¿Cuáles son los últimos 5 usuarios registrados?\"\n",
    "print(\"\\nPregunta:\", question)\n",
    "result = get_db_response(question)\n",
    "print(\"\\nRespuesta:\", result)"
   ],
   "id": "877c61cddc308588",
   "outputs": [
    {
     "name": "stdout",
     "output_type": "stream",
     "text": [
      "\n",
      "Pregunta: ¿Cuáles son los últimos 5 usuarios registrados?\n",
      "Esquema de la base de datos:\n",
      "\n",
      "CREATE TABLE usuarios (\n",
      "\tid_usuario INTEGER NOT NULL AUTO_INCREMENT, \n",
      "\tnombre VARCHAR(100) NOT NULL, \n",
      "\tnivel_estudios VARCHAR(50) NOT NULL, \n",
      "\tespecialidad VARCHAR(100), \n",
      "\t`experiencia_años` INTEGER, \n",
      "\temail VARCHAR(100), \n",
      "\ttelefono VARCHAR(15), \n",
      "\tciudad VARCHAR(50), \n",
      "\tfecha_registro DATE DEFAULT (curdate()), \n",
      "\tcomentarios TEXT, \n",
      "\tPRIMARY KEY (id_usuario)\n",
      ")ENGINE=InnoDB COLLATE utf8mb4_0900_ai_ci DEFAULT CHARSET=utf8mb4\n",
      "\n",
      "/*\n",
      "3 rows from usuarios table:\n",
      "id_usuario\tnombre\tnivel_estudios\tespecialidad\texperiencia_años\temail\ttelefono\tciudad\tfecha_registro\tcomentarios\n",
      "1\tJuan Pérez\tLicenciatura\tSeguridad de Redes\t5\tjuan.perez@email.com\t123456789\tMadrid\t2024-11-16\tEspecialista en firewalls y gestión de redes seguras.\n",
      "2\tMaría López\tMáster\tCriptografía\t3\tmaria.lopez@email.com\t987654321\tBarcelona\t2024-11-16\tExperta en algoritmos de cifrado y técnicas de protección de datos.\n",
      "3\tCarlos García\tDoctorado\tAnálisis de Vulnerabilidades\t8\tcarlos.garcia@email.com\t654123987\tValencia\t2024-11-16\tLideró proyectos de investigación sobre vulnerabilidades en sistemas operativos.\n",
      "*/\n"
     ]
    },
    {
     "name": "stderr",
     "output_type": "stream",
     "text": [
      "/var/folders/rn/1q7mj00d6b3fwpkj8tndfp8c0000gn/T/ipykernel_16618/2424357026.py:15: LangChainDeprecationWarning: The method `BaseChatModel.predict` was deprecated in langchain-core 0.1.7 and will be removed in 1.0. Use :meth:`~invoke` instead.\n",
      "  raw_query = llm.predict(prompt_value.to_string())\n",
      "INFO:httpx:HTTP Request: POST https://api.openai.com/v1/chat/completions \"HTTP/1.1 200 OK\"\n"
     ]
    },
    {
     "name": "stdout",
     "output_type": "stream",
     "text": [
      "\n",
      "Consulta SQL a ejecutar: SELECT * FROM usuarios ORDER BY fecha_registro DESC LIMIT 5;\n"
     ]
    },
    {
     "name": "stderr",
     "output_type": "stream",
     "text": [
      "INFO:httpx:HTTP Request: POST https://api.openai.com/v1/chat/completions \"HTTP/1.1 200 OK\"\n"
     ]
    },
    {
     "name": "stdout",
     "output_type": "stream",
     "text": [
      "\n",
      "Respuesta: Los últimos 5 usuarios registrados son:\n",
      "\n",
      "1. **Juan Pérez** - Licenciatura en Seguridad de Redes, especialista en firewalls y gestión de redes seguras. (Email: juan.perez@email.com, Ubicación: Madrid)\n",
      "2. **María López** - Máster en Criptografía, experta en algoritmos de cifrado y técnicas de protección de datos. (Email: maria.lopez@email.com, Ubicación: Barcelona)\n",
      "3. **Carlos García** - Doctorado en Análisis de Vulnerabilidades, lideró proyectos de investigación sobre vulnerabilidades en sistemas operativos. (Email: carlos.garcia@email.com, Ubicación: Valencia)\n",
      "4. **Ana Sánchez** - Licenciatura en Ingeniería Social, con enfoque en prevención de ataques de ingeniería social. (Email: ana.sanchez@email.com, Ubicación: Sevilla)\n",
      "5. **Laura Gómez** - Máster en Forense Digital, perito especializado en análisis forense de dispositivos electrónicos. (Email: laura.gomez@email.com, Ubicación: Bilbao)\n"
     ]
    }
   ],
   "execution_count": 8
  },
  {
   "metadata": {
    "ExecuteTime": {
     "end_time": "2024-11-16T16:53:28.465272Z",
     "start_time": "2024-11-16T16:53:28.462843Z"
    }
   },
   "cell_type": "code",
   "source": [
    "# Imports necesarios\n",
    "from langchain_core.prompts import PromptTemplate\n",
    "from langchain_openai import ChatOpenAI\n",
    "from langchain_community.utilities import SQLDatabase\n",
    "from langchain_core.output_parsers import StrOutputParser\n",
    "from langchain_core.runnables import RunnablePassthrough\n",
    "from operator import itemgetter\n",
    "import os\n",
    "from dotenv import load_dotenv\n",
    "import logging"
   ],
   "id": "cf6e5588883fe2c3",
   "outputs": [],
   "execution_count": 2
  },
  {
   "metadata": {
    "ExecuteTime": {
     "end_time": "2024-11-16T16:42:39.012245Z",
     "start_time": "2024-11-16T16:42:39.009408Z"
    }
   },
   "cell_type": "code",
   "source": [
    "# Configurar logging\n",
    "logging.basicConfig(\n",
    "    level=logging.INFO,\n",
    "    format='%(asctime)s - %(levelname)s - %(message)s'\n",
    ")\n",
    "logger = logging.getLogger(__name__)"
   ],
   "id": "986613e27cc4f5ca",
   "outputs": [],
   "execution_count": 2
  },
  {
   "metadata": {
    "ExecuteTime": {
     "end_time": "2024-11-16T16:43:35.548341Z",
     "start_time": "2024-11-16T16:43:35.536354Z"
    }
   },
   "cell_type": "code",
   "source": [
    "class DatabaseQueryChain:\n",
    "    \"\"\"Clase para manejar consultas a la base de datos usando LangChain.\"\"\"\n",
    "\n",
    "    def __init__(self):\n",
    "        \"\"\"Inicializar la cadena de consulta.\"\"\"\n",
    "        # Cargar variables de entorno\n",
    "        load_dotenv()\n",
    "\n",
    "        # Configurar conexión a la base de datos\n",
    "        self.db = self._setup_database()\n",
    "\n",
    "        # Configurar el modelo de lenguaje\n",
    "        self.llm = ChatOpenAI(\n",
    "            model=\"gpt-4o-mini\",\n",
    "            temperature=0,  # Reducir aleatoriedad para consultas más consistentes\n",
    "            api_key=os.getenv(\"OPENAI_API_KEY\")\n",
    "        )\n",
    "\n",
    "        # Configurar las cadenas de procesamiento\n",
    "        self._setup_chains()\n",
    "\n",
    "    def _setup_database(self) -> SQLDatabase:\n",
    "        \"\"\"Configurar la conexión a la base de datos.\"\"\"\n",
    "        try:\n",
    "            db_uri = f\"mysql+pymysql://{os.getenv('MYSQL_USER')}:{os.getenv('MYSQL_PASSWORD')}@\" \\\n",
    "                     f\"{os.getenv('MYSQL_HOST')}:{os.getenv('MYSQL_PORT')}/usuarios_cibersecurity\"\n",
    "            return SQLDatabase.from_uri(db_uri)\n",
    "        except Exception as e:\n",
    "            logger.error(f\"Error conectando a la base de datos: {e}\")\n",
    "            raise\n",
    "\n",
    "    def _setup_chains(self):\n",
    "        \"\"\"Configurar las cadenas de procesamiento.\"\"\"\n",
    "        # Prompt para generar consultas SQL\n",
    "        self.sql_prompt = PromptTemplate.from_template(\n",
    "            \"\"\"Given the database schema below, write a clear, efficient SQL query to answer the user's question.\n",
    "            Return ONLY the SQL query without any markdown, comments, or explanations.\n",
    "\n",
    "            Schema:\n",
    "            {table_info}\n",
    "\n",
    "            Question: {question}\n",
    "            SQL Query: \"\"\"\n",
    "        )\n",
    "\n",
    "        # Prompt para generar respuestas en lenguaje natural\n",
    "        self.answer_prompt = PromptTemplate.from_template(\n",
    "            \"\"\"Based on the following information, provide a clear and concise answer in Spanish:\n",
    "\n",
    "            Question: {question}\n",
    "            SQL Query: {query}\n",
    "            SQL Result: {result}\n",
    "\n",
    "            Answer in a user-friendly way, providing context when useful.\n",
    "            Answer: \"\"\"\n",
    "        )\n",
    "\n",
    "        # Configurar la cadena completa\n",
    "        self._setup_processing_chain()\n",
    "\n",
    "    def _setup_processing_chain(self):\n",
    "        \"\"\"Configurar la cadena de procesamiento principal.\"\"\"\n",
    "        self.chain = (\n",
    "            RunnablePassthrough.assign(\n",
    "                query=self._generate_sql_query\n",
    "            ).assign(\n",
    "                result=self._execute_sql_query\n",
    "            )\n",
    "            | self.answer_prompt\n",
    "            | self.llm\n",
    "            | StrOutputParser()\n",
    "        )\n",
    "\n",
    "    def _clean_sql_query(self, query: str) -> str:\n",
    "        \"\"\"Limpiar y formatear la consulta SQL.\"\"\"\n",
    "        # Remover marcadores de código y espacios innecesarios\n",
    "        query = query.replace(\"```sql\", \"\").replace(\"```\", \"\").strip()\n",
    "        return \" \".join(query.split())  # Normalizar espacios\n",
    "\n",
    "    def _generate_sql_query(self, inputs: dict) -> str:\n",
    "        \"\"\"Generar la consulta SQL a partir de la pregunta.\"\"\"\n",
    "        try:\n",
    "            prompt_value = self.sql_prompt.format_prompt(\n",
    "                question=inputs[\"question\"],\n",
    "                table_info=self.db.get_table_info()\n",
    "            )\n",
    "            query = self.llm.predict(prompt_value.to_string())\n",
    "            clean_query = self._clean_sql_query(query)\n",
    "            logger.info(f\"Consulta SQL generada: {clean_query}\")\n",
    "            return clean_query\n",
    "        except Exception as e:\n",
    "            logger.error(f\"Error generando consulta SQL: {e}\")\n",
    "            raise\n",
    "\n",
    "    def _execute_sql_query(self, inputs: dict) -> str:\n",
    "        \"\"\"Ejecutar la consulta SQL.\"\"\"\n",
    "        try:\n",
    "            result = self.db.run(inputs[\"query\"])\n",
    "            logger.info(f\"Resultado de la consulta: {result}\")\n",
    "            return result\n",
    "        except Exception as e:\n",
    "            logger.error(f\"Error ejecutando consulta SQL: {e}\")\n",
    "            raise\n",
    "\n",
    "    def process_question(self, question: str) -> str:\n",
    "        \"\"\"\n",
    "        Procesar una pregunta y obtener una respuesta.\n",
    "\n",
    "        Args:\n",
    "            question (str): Pregunta en lenguaje natural\n",
    "\n",
    "        Returns:\n",
    "            str: Respuesta en lenguaje natural\n",
    "        \"\"\"\n",
    "        try:\n",
    "            logger.info(f\"Procesando pregunta: {question}\")\n",
    "            response = self.chain.invoke({\"question\": question})\n",
    "            logger.info(f\"Respuesta generada exitosamente\")\n",
    "            return response\n",
    "        except Exception as e:\n",
    "            logger.error(f\"Error procesando pregunta: {e}\")\n",
    "            return f\"Lo siento, hubo un error al procesar tu pregunta: {str(e)}\""
   ],
   "id": "e4edcf5ae92d8975",
   "outputs": [],
   "execution_count": 4
  },
  {
   "metadata": {
    "ExecuteTime": {
     "end_time": "2024-11-16T16:43:49.919437Z",
     "start_time": "2024-11-16T16:43:38.040004Z"
    }
   },
   "cell_type": "code",
   "source": [
    "\"\"\"Función principal para demostración.\"\"\"\n",
    "# Crear instancia de la cadena\n",
    "query_chain = DatabaseQueryChain()\n",
    "\n",
    "# Ejemplos de preguntas\n",
    "questions = [\n",
    "    \"¿Cuáles son los últimos 5 usuarios registrados?\",\n",
    "    \"¿Cuántos usuarios hay en total?\",\n",
    "    \"¿Cuál es el promedio de años de experiencia?\"\n",
    "]\n",
    "\n",
    "# Procesar cada pregunta\n",
    "for question in questions:\n",
    "    print(\"\\n\" + \"=\"*50)\n",
    "    print(f\"Pregunta: {question}\")\n",
    "    print(\"-\"*50)\n",
    "    response = query_chain.process_question(question)\n",
    "    print(f\"Respuesta: {response}\")"
   ],
   "id": "151098adde0bf76",
   "outputs": [
    {
     "name": "stderr",
     "output_type": "stream",
     "text": [
      "2024-11-16 17:43:38,337 - INFO - Procesando pregunta: ¿Cuáles son los últimos 5 usuarios registrados?\n"
     ]
    },
    {
     "name": "stdout",
     "output_type": "stream",
     "text": [
      "\n",
      "==================================================\n",
      "Pregunta: ¿Cuáles son los últimos 5 usuarios registrados?\n",
      "--------------------------------------------------\n"
     ]
    },
    {
     "name": "stderr",
     "output_type": "stream",
     "text": [
      "/var/folders/rn/1q7mj00d6b3fwpkj8tndfp8c0000gn/T/ipykernel_18777/1573036840.py:87: LangChainDeprecationWarning: The method `BaseChatModel.predict` was deprecated in langchain-core 0.1.7 and will be removed in 1.0. Use :meth:`~invoke` instead.\n",
      "  query = self.llm.predict(prompt_value.to_string())\n",
      "2024-11-16 17:43:39,799 - INFO - HTTP Request: POST https://api.openai.com/v1/chat/completions \"HTTP/1.1 200 OK\"\n",
      "2024-11-16 17:43:39,811 - INFO - Consulta SQL generada: SELECT * FROM usuarios ORDER BY fecha_registro DESC LIMIT 5;\n",
      "2024-11-16 17:43:39,816 - INFO - Resultado de la consulta: [(1, 'Juan Pérez', 'Licenciatura', 'Seguridad de Redes', 5, 'juan.perez@email.com', '123456789', 'Madrid', datetime.date(2024, 11, 16), 'Especialista en firewalls y gestión de redes seguras.'), (2, 'María López', 'Máster', 'Criptografía', 3, 'maria.lopez@email.com', '987654321', 'Barcelona', datetime.date(2024, 11, 16), 'Experta en algoritmos de cifrado y técnicas de protección de datos.'), (3, 'Carlos García', 'Doctorado', 'Análisis de Vulnerabilidades', 8, 'carlos.garcia@email.com', '654123987', 'Valencia', datetime.date(2024, 11, 16), 'Lideró proyectos de investigación sobre vulnerabilidades en sistemas operativos.'), (4, 'Ana Sánchez', 'Licenciatura', 'Ingeniería Social', 2, 'ana.sanchez@email.com', '321789654', 'Sevilla', datetime.date(2024, 11, 16), 'Con enfoque en prevención de ataques de ingeniería social.'), (5, 'Laura Gómez', 'Máster', 'Forense Digital', 6, 'laura.gomez@email.com', '456123789', 'Bilbao', datetime.date(2024, 11, 16), 'Perito especializado en análisis forense de dispositivos electrónicos.')]\n",
      "2024-11-16 17:43:46,411 - INFO - HTTP Request: POST https://api.openai.com/v1/chat/completions \"HTTP/1.1 200 OK\"\n",
      "2024-11-16 17:43:46,418 - INFO - Respuesta generada exitosamente\n",
      "2024-11-16 17:43:46,419 - INFO - Procesando pregunta: ¿Cuántos usuarios hay en total?\n"
     ]
    },
    {
     "name": "stdout",
     "output_type": "stream",
     "text": [
      "Respuesta: Los últimos 5 usuarios registrados son:\n",
      "\n",
      "1. **Juan Pérez**  \n",
      "   - **Título:** Licenciatura  \n",
      "   - **Especialidad:** Seguridad de Redes  \n",
      "   - **Email:** juan.perez@email.com  \n",
      "   - **Teléfono:** 123456789  \n",
      "   - **Ubicación:** Madrid  \n",
      "   - **Descripción:** Especialista en firewalls y gestión de redes seguras.  \n",
      "   - **Fecha de registro:** 16 de noviembre de 2024  \n",
      "\n",
      "2. **María López**  \n",
      "   - **Título:** Máster  \n",
      "   - **Especialidad:** Criptografía  \n",
      "   - **Email:** maria.lopez@email.com  \n",
      "   - **Teléfono:** 987654321  \n",
      "   - **Ubicación:** Barcelona  \n",
      "   - **Descripción:** Experta en algoritmos de cifrado y técnicas de protección de datos.  \n",
      "   - **Fecha de registro:** 16 de noviembre de 2024  \n",
      "\n",
      "3. **Carlos García**  \n",
      "   - **Título:** Doctorado  \n",
      "   - **Especialidad:** Análisis de Vulnerabilidades  \n",
      "   - **Email:** carlos.garcia@email.com  \n",
      "   - **Teléfono:** 654123987  \n",
      "   - **Ubicación:** Valencia  \n",
      "   - **Descripción:** Lideró proyectos de investigación sobre vulnerabilidades en sistemas operativos.  \n",
      "   - **Fecha de registro:** 16 de noviembre de 2024  \n",
      "\n",
      "4. **Ana Sánchez**  \n",
      "   - **Título:** Licenciatura  \n",
      "   - **Especialidad:** Ingeniería Social  \n",
      "   - **Email:** ana.sanchez@email.com  \n",
      "   - **Teléfono:** 321789654  \n",
      "   - **Ubicación:** Sevilla  \n",
      "   - **Descripción:** Con enfoque en prevención de ataques de ingeniería social.  \n",
      "   - **Fecha de registro:** 16 de noviembre de 2024  \n",
      "\n",
      "5. **Laura Gómez**  \n",
      "   - **Título:** Máster  \n",
      "   - **Especialidad:** Forense Digital  \n",
      "   - **Email:** laura.gomez@email.com  \n",
      "   - **Teléfono:** 456123789  \n",
      "   - **Ubicación:** Bilbao  \n",
      "   - **Descripción:** Perito especializado en análisis forense de dispositivos electrónicos.  \n",
      "   - **Fecha de registro:** 16 de noviembre de 2024  \n",
      "\n",
      "Estos usuarios han sido registrados recientemente y tienen diversas especialidades en el ámbito de la seguridad y la tecnología.\n",
      "\n",
      "==================================================\n",
      "Pregunta: ¿Cuántos usuarios hay en total?\n",
      "--------------------------------------------------\n"
     ]
    },
    {
     "name": "stderr",
     "output_type": "stream",
     "text": [
      "2024-11-16 17:43:47,144 - INFO - HTTP Request: POST https://api.openai.com/v1/chat/completions \"HTTP/1.1 200 OK\"\n",
      "2024-11-16 17:43:47,146 - INFO - Consulta SQL generada: SELECT COUNT(*) FROM usuarios;\n",
      "2024-11-16 17:43:47,152 - INFO - Resultado de la consulta: [(5,)]\n",
      "2024-11-16 17:43:47,956 - INFO - HTTP Request: POST https://api.openai.com/v1/chat/completions \"HTTP/1.1 200 OK\"\n",
      "2024-11-16 17:43:47,958 - INFO - Respuesta generada exitosamente\n",
      "2024-11-16 17:43:47,958 - INFO - Procesando pregunta: ¿Cuál es el promedio de años de experiencia?\n"
     ]
    },
    {
     "name": "stdout",
     "output_type": "stream",
     "text": [
      "Respuesta: Hay un total de 5 usuarios registrados en la base de datos.\n",
      "\n",
      "==================================================\n",
      "Pregunta: ¿Cuál es el promedio de años de experiencia?\n",
      "--------------------------------------------------\n"
     ]
    },
    {
     "name": "stderr",
     "output_type": "stream",
     "text": [
      "2024-11-16 17:43:48,877 - INFO - HTTP Request: POST https://api.openai.com/v1/chat/completions \"HTTP/1.1 200 OK\"\n",
      "2024-11-16 17:43:48,880 - INFO - Consulta SQL generada: SELECT AVG(experiencia_años) AS promedio_experiencia FROM usuarios;\n",
      "2024-11-16 17:43:48,886 - INFO - Resultado de la consulta: [(Decimal('4.8000'),)]\n",
      "2024-11-16 17:43:49,912 - INFO - HTTP Request: POST https://api.openai.com/v1/chat/completions \"HTTP/1.1 200 OK\"\n",
      "2024-11-16 17:43:49,916 - INFO - Respuesta generada exitosamente\n"
     ]
    },
    {
     "name": "stdout",
     "output_type": "stream",
     "text": [
      "Respuesta: El promedio de años de experiencia es de 4.8 años. Esto indica que, en general, los usuarios tienen una experiencia considerable en su campo.\n"
     ]
    }
   ],
   "execution_count": 5
  },
  {
   "metadata": {},
   "cell_type": "code",
   "outputs": [],
   "execution_count": null,
   "source": "",
   "id": "38f10611ef3432f4"
  }
 ],
 "metadata": {
  "kernelspec": {
   "display_name": "Python 3",
   "language": "python",
   "name": "python3"
  },
  "language_info": {
   "codemirror_mode": {
    "name": "ipython",
    "version": 2
   },
   "file_extension": ".py",
   "mimetype": "text/x-python",
   "name": "python",
   "nbconvert_exporter": "python",
   "pygments_lexer": "ipython2",
   "version": "2.7.6"
  }
 },
 "nbformat": 4,
 "nbformat_minor": 5
}
